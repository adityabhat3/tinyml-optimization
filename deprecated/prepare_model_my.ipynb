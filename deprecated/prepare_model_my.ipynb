{
  "cells": [
    {
      "attachments": {},
      "cell_type": "markdown",
      "metadata": {
        "id": "7xc2grXmGVo4"
      },
      "source": [
        "# Chapter 5 - Indoor Scene Classification with TFLu and the Arduino Nano"
      ]
    },
    {
      "cell_type": "code",
      "execution_count": 1,
      "metadata": {
        "id": "bAenHrKFofOR"
      },
      "outputs": [
        {
          "name": "stderr",
          "output_type": "stream",
          "text": [
            "UsageError: Line magic function `%tensorflow_version` not found.\n"
          ]
        }
      ],
      "source": [
        "%tensorflow_version 2.x"
      ]
    },
    {
      "attachments": {},
      "cell_type": "markdown",
      "metadata": {
        "id": "bCS8r9jvlfFi"
      },
      "source": [
        "### Python libraries"
      ]
    },
    {
      "cell_type": "code",
      "execution_count": 2,
      "metadata": {
        "id": "9IzYsIvDlgx_"
      },
      "outputs": [
        {
          "name": "stderr",
          "output_type": "stream",
          "text": [
            "2023-07-14 11:56:13.428782: I tensorflow/core/platform/cpu_feature_guard.cc:182] This TensorFlow binary is optimized to use available CPU instructions in performance-critical operations.\n",
            "To enable the following instructions: AVX2 FMA, in other operations, rebuild TensorFlow with the appropriate compiler flags.\n"
          ]
        }
      ],
      "source": [
        "import numpy as np\n",
        "import pathlib\n",
        "#!export PROTOCOL_BUFFERS_PYTHON_IMPLEMENTATION=python\n",
        "import tensorflow as tf\n",
        "from learning_rate_schedulers import StepDecay\n",
        "#import tensorflow_model_optimization as tfmot\n",
        "#import tensorflow_datasets as tfds\n",
        "import zipfile\n",
        "from tensorflow.keras.applications.mobilenet_v2 import MobileNetV2\n",
        "# from tensorflow.keras.models import Model\n",
        "import matplotlib.pyplot as plt"
      ]
    },
    {
      "attachments": {},
      "cell_type": "markdown",
      "metadata": {
        "id": "EJchRFEmnwvl"
      },
      "source": [
        "### Constants"
      ]
    },
    {
      "cell_type": "code",
      "execution_count": 3,
      "metadata": {
        "id": "6VGtgqiVFaY1"
      },
      "outputs": [],
      "source": [
        "MODEL_ALPHA = 0.35\n",
        "MODEL_INPUT_WIDTH = 64\n",
        "MODEL_INPUT_HEIGHT = 64\n",
        "TFL_MODEL_FILE = \"model64outint8.tflite\"\n",
        "TFL_MODEL_HEADER_FILE = \"model64outint8.h\"\n",
        "TF_MODEL = \"model64outint8\""
      ]
    },
    {
      "attachments": {},
      "cell_type": "markdown",
      "metadata": {
        "id": "3J8L3YW_htYw"
      },
      "source": [
        "## Transfer learning with Keras"
      ]
    },
    {
      "attachments": {},
      "cell_type": "markdown",
      "metadata": {
        "id": "YSlp-mPQhwuY"
      },
      "source": [
        "### Unzip the dataset (dataset.zip) SKIP THIS STEP\n"
      ]
    },
    {
      "cell_type": "code",
      "execution_count": 142,
      "metadata": {
        "id": "Tp1VN1OZGuEn"
      },
      "outputs": [],
      "source": [
        "# with zipfile.ZipFile(\"dataset.zip\", 'r') as zip_ref:\n",
        "#   zip_ref.extractall(\".\")\n",
        "# data_dir = \"dataset\""
      ]
    },
    {
      "attachments": {},
      "cell_type": "markdown",
      "metadata": {
        "id": "HMqMhiuvGpam"
      },
      "source": [
        "### Prepare the train (80%) and validation (20%) datasets"
      ]
    },
    {
      "cell_type": "code",
      "execution_count": 5,
      "metadata": {
        "id": "jKZ4L-wsBktr"
      },
      "outputs": [
        {
          "name": "stdout",
          "output_type": "stream",
          "text": [
            "Found 115 files belonging to 3 classes.\n",
            "Found 30 files belonging to 3 classes.\n"
          ]
        }
      ],
      "source": [
        "data_dir=\"edited_dataset_copy\"\n",
        "train_ds = tf.keras.utils.image_dataset_from_directory(\n",
        "  \"edited_dataset_copy\",\n",
        "  validation_split=0,\n",
        "  # subset=\"training\",\n",
        "  seed=123,\n",
        "  interpolation=\"bilinear\",\n",
        "  image_size=(MODEL_INPUT_WIDTH, MODEL_INPUT_HEIGHT)\n",
        "  )\n",
        "\n",
        "valid_ds=tf.keras.utils.image_dataset_from_directory(\n",
        "  \"valid_dataset\",\n",
        "  validation_split=0,\n",
        "  # subset=\"validation\",\n",
        "  seed=123,\n",
        "  interpolation=\"bilinear\",\n",
        "  image_size=(MODEL_INPUT_WIDTH, MODEL_INPUT_HEIGHT)\n",
        "  )\n",
        "# rescale = tf.keras.layers.Rescaling(1./255, offset= -1)\n"
      ]
    },
    {
      "attachments": {},
      "cell_type": "markdown",
      "metadata": {
        "id": "mWxKsXM0iMxj"
      },
      "source": [
        "### Get the name of the classes"
      ]
    },
    {
      "cell_type": "code",
      "execution_count": 6,
      "metadata": {
        "id": "zLWkCbjYDVHJ"
      },
      "outputs": [
        {
          "name": "stdout",
          "output_type": "stream",
          "text": [
            "['paper', 'rock', 'scissors']\n"
          ]
        }
      ],
      "source": [
        "class_names = train_ds.class_names\n",
        "num_classes = len(class_names)\n",
        "print(class_names)"
      ]
    },
    {
      "attachments": {},
      "cell_type": "markdown",
      "metadata": {
        "id": "vEsZQCsUHaeb"
      },
      "source": [
        "### Rescale the pixel values from [0, 255] to [-1, 1]"
      ]
    },
    {
      "cell_type": "code",
      "execution_count": 7,
      "metadata": {
        "id": "-lFJZj50HhMV"
      },
      "outputs": [],
      "source": [
        "rescale = tf.keras.layers.Rescaling(1./127.5, offset= -1)\n",
        "train_ds = train_ds.map(lambda x, y: (rescale(x), y))\n",
        "\n",
        "valid_ds   = valid_ds.map(lambda x, y: (rescale(x), y))\n",
        "# val_ds   = val_ds.map(lambda x, y: (rescale(x), y))"
      ]
    },
    {
      "attachments": {},
      "cell_type": "markdown",
      "metadata": {
        "id": "OK0nFgtFSwsF"
      },
      "source": [
        "### Import the MobileNet v2 pre-trained model"
      ]
    },
    {
      "cell_type": "code",
      "execution_count": 8,
      "metadata": {
        "id": "DbhSn1Bl-LZ7"
      },
      "outputs": [
        {
          "name": "stdout",
          "output_type": "stream",
          "text": [
            "WARNING:tensorflow:`input_shape` is undefined or non-square, or `rows` is not in [96, 128, 160, 192, 224]. Weights for input shape (224, 224) will be loaded as the default.\n"
          ]
        }
      ],
      "source": [
        "num_classes=3\n",
        "# https://github.com/keras-team/keras-applications/blob/master/keras_applications/mobilenet_v2.py\n",
        "base_model = MobileNetV2(input_shape=(MODEL_INPUT_WIDTH, MODEL_INPUT_HEIGHT, 3),\n",
        "                         include_top=False,\n",
        "                         weights='imagenet',\n",
        "                         alpha=0.35)\n",
        "base_model.trainable = True\n",
        "\n",
        "feat_extr = base_model\n",
        "\n",
        "x=feat_extr.layers[-4].output\n",
        "x=tf.keras.layers.GlobalAveragePooling2D()(x)\n",
        "x=tf.keras.layers.Dense(64)(x)\n",
        "x=tf.keras.layers.BatchNormalization()(x)\n",
        "x=tf.keras.layers.ReLU()(x)\n",
        "outputs=tf.keras.layers.Dense(3, activation=\"Softmax\")(x)\n",
        "# outputs=tf.keras.layers.Softmax()(x)\n",
        "model= tf.keras.Model(inputs=feat_extr.inputs, outputs=outputs)\n",
        "# model.summary()\n",
        "\n",
        "\n"
      ]
    },
    {
      "attachments": {},
      "cell_type": "markdown",
      "metadata": {
        "id": "lOCL5dx-MmlD"
      },
      "source": [
        "### Augment the input data"
      ]
    },
    {
      "cell_type": "code",
      "execution_count": 9,
      "metadata": {
        "id": "7ebIppPRjUKF"
      },
      "outputs": [],
      "source": [
        "augmen = tf.keras.Sequential([\n",
        "  tf.keras.layers.experimental.preprocessing.RandomRotation(0.2),\n",
        "  tf.keras.layers.experimental.preprocessing.RandomFlip('horizontal'),\n",
        "  tf.keras.layers.experimental.preprocessing.RandomZoom(0.1, 0.1),\n",
        "  tf.keras.layers.experimental.preprocessing.RandomTranslation(0.1, 0.1)\n",
        "])\n",
        "\n",
        "train_ds = train_ds.map(lambda x, y: (augmen(x), y))\n",
        "# val_ds   = val_ds.map(lambda x, y: (augmen(x), y))"
      ]
    },
    {
      "attachments": {},
      "cell_type": "markdown",
      "metadata": {
        "id": "Qhw11eldjZoz"
      },
      "source": [
        "### Prepare the classification head"
      ]
    },
    {
      "cell_type": "code",
      "execution_count": 148,
      "metadata": {
        "id": "gC5CVjRNMn7q"
      },
      "outputs": [],
      "source": [
        "# global_avg_layer = tf.keras.layers.GlobalAveragePooling2D()\n",
        "# dense_layer = tf.keras.layers.Dense(num_classes, activation='softmax')"
      ]
    },
    {
      "attachments": {},
      "cell_type": "markdown",
      "metadata": {
        "id": "IZYMkd0yM5tb"
      },
      "source": [
        "### Build the model architecture"
      ]
    },
    {
      "cell_type": "code",
      "execution_count": 149,
      "metadata": {
        "id": "r-DTz_x5M7bg"
      },
      "outputs": [],
      "source": [
        "# inputs = tf.keras.Input(shape=(MODEL_INPUT_WIDTH, MODEL_INPUT_HEIGHT, 3))\n",
        "# x = global_avg_layer(feat_extr.layers[-1].output)\n",
        "# x = tf.keras.layers.Dropout(0.2)(x)\n",
        "# outputs = dense_layer(x)\n",
        "# model = tf.keras.Model(inputs=feat_extr.inputs, outputs=outputs)\n",
        "\n",
        "\n",
        "                           "
      ]
    },
    {
      "attachments": {},
      "cell_type": "markdown",
      "metadata": {
        "id": "X4AoQHO1j1a3"
      },
      "source": [
        "### Compile the model with a 0.0005 learning rate"
      ]
    },
    {
      "cell_type": "code",
      "execution_count": 10,
      "metadata": {
        "id": "ZHPUqQNijqE5"
      },
      "outputs": [],
      "source": [
        "lr = 0.0001\n",
        "# initial_learning_rate = 1e-3\n",
        "# lr_schedule = tf.keras.optimizers.schedules.ExponentialDecay(\n",
        "#     initial_learning_rate,\n",
        "#     decay_steps=200,\n",
        "#     decay_rate=0.96,\n",
        "#     staircase=True)\n",
        "lr_callback=tf.keras.callbacks.LearningRateScheduler(StepDecay(initAlpha=1e-3, dropEvery=20,factor=0.75))\n",
        "model.compile(\n",
        "  optimizer=tf.keras.optimizers.Adam(learning_rate=lr),\n",
        "  loss=tf.losses.SparseCategoricalCrossentropy(from_logits=False),\n",
        "  metrics=['accuracy'])\n",
        "early_stopping_callback = tf.keras.callbacks.EarlyStopping(\n",
        "    patience=5,\n",
        "    monitor='val_accuracy'\n",
        "    # monitor='val_loss'\n",
        ")"
      ]
    },
    {
      "attachments": {},
      "cell_type": "markdown",
      "metadata": {
        "id": "x4M-8ftzj89-"
      },
      "source": [
        "### Model summary"
      ]
    },
    {
      "cell_type": "code",
      "execution_count": 151,
      "metadata": {
        "id": "WFXJSd6fj415"
      },
      "outputs": [],
      "source": [
        "#  model.summary()"
      ]
    },
    {
      "attachments": {},
      "cell_type": "markdown",
      "metadata": {
        "id": "25W5CUAVj_I9"
      },
      "source": [
        "### Train the model with 10 epochs"
      ]
    },
    {
      "cell_type": "code",
      "execution_count": 11,
      "metadata": {
        "id": "na0GBGTQkavr"
      },
      "outputs": [
        {
          "name": "stderr",
          "output_type": "stream",
          "text": [
            "2023-07-14 11:58:20.025500: I tensorflow/core/common_runtime/executor.cc:1197] [/device:CPU:0] (DEBUG INFO) Executor start aborting (this does not indicate an error and you can ignore this message): INVALID_ARGUMENT: You must feed a value for placeholder tensor 'Placeholder/_19' with dtype resource\n",
            "\t [[{{node Placeholder/_19}}]]\n",
            "2023-07-14 11:58:20.029219: I tensorflow/core/common_runtime/executor.cc:1197] [/device:CPU:0] (DEBUG INFO) Executor start aborting (this does not indicate an error and you can ignore this message): INVALID_ARGUMENT: You must feed a value for placeholder tensor 'Placeholder/_18' with dtype resource\n",
            "\t [[{{node Placeholder/_18}}]]\n"
          ]
        },
        {
          "name": "stdout",
          "output_type": "stream",
          "text": [
            "Epoch 1/100\n",
            "4/4 [==============================] - ETA: 0s - loss: 1.0823 - accuracy: 0.4870"
          ]
        },
        {
          "name": "stderr",
          "output_type": "stream",
          "text": [
            "2023-07-14 11:58:46.854014: I tensorflow/core/common_runtime/executor.cc:1197] [/device:CPU:0] (DEBUG INFO) Executor start aborting (this does not indicate an error and you can ignore this message): INVALID_ARGUMENT: You must feed a value for placeholder tensor 'Placeholder/_4' with dtype int32 and shape [30]\n",
            "\t [[{{node Placeholder/_4}}]]\n",
            "2023-07-14 11:58:46.854619: I tensorflow/core/common_runtime/executor.cc:1197] [/device:CPU:0] (DEBUG INFO) Executor start aborting (this does not indicate an error and you can ignore this message): INVALID_ARGUMENT: You must feed a value for placeholder tensor 'Placeholder/_0' with dtype string and shape [30]\n",
            "\t [[{{node Placeholder/_0}}]]\n"
          ]
        },
        {
          "name": "stdout",
          "output_type": "stream",
          "text": [
            "4/4 [==============================] - 28s 1s/step - loss: 1.0823 - accuracy: 0.4870 - val_loss: 1.6601 - val_accuracy: 0.3667\n",
            "Epoch 2/100\n",
            "4/4 [==============================] - 2s 418ms/step - loss: 1.1477 - accuracy: 0.4348 - val_loss: 1.5568 - val_accuracy: 0.4000\n",
            "Epoch 3/100\n",
            "4/4 [==============================] - 1s 233ms/step - loss: 1.0855 - accuracy: 0.4696 - val_loss: 1.4421 - val_accuracy: 0.4333\n",
            "Epoch 4/100\n",
            "4/4 [==============================] - 1s 231ms/step - loss: 0.9727 - accuracy: 0.5130 - val_loss: 1.3319 - val_accuracy: 0.4667\n",
            "Epoch 5/100\n",
            "4/4 [==============================] - 2s 395ms/step - loss: 0.9952 - accuracy: 0.5565 - val_loss: 1.2416 - val_accuracy: 0.4000\n",
            "Epoch 6/100\n",
            "4/4 [==============================] - 2s 553ms/step - loss: 0.8565 - accuracy: 0.5565 - val_loss: 1.1810 - val_accuracy: 0.4000\n",
            "Epoch 7/100\n",
            "4/4 [==============================] - 1s 304ms/step - loss: 0.8747 - accuracy: 0.5739 - val_loss: 1.1245 - val_accuracy: 0.4667\n",
            "Epoch 8/100\n",
            "4/4 [==============================] - 1s 268ms/step - loss: 0.7909 - accuracy: 0.6522 - val_loss: 1.0928 - val_accuracy: 0.4667\n",
            "Epoch 9/100\n",
            "4/4 [==============================] - 2s 381ms/step - loss: 0.7535 - accuracy: 0.6783 - val_loss: 1.0751 - val_accuracy: 0.5000\n",
            "Epoch 10/100\n",
            "4/4 [==============================] - 1s 368ms/step - loss: 0.8090 - accuracy: 0.6783 - val_loss: 1.0555 - val_accuracy: 0.5333\n",
            "Epoch 11/100\n",
            "4/4 [==============================] - 2s 422ms/step - loss: 0.7803 - accuracy: 0.6174 - val_loss: 1.0313 - val_accuracy: 0.5333\n",
            "Epoch 12/100\n",
            "4/4 [==============================] - 2s 379ms/step - loss: 0.7733 - accuracy: 0.6174 - val_loss: 1.0141 - val_accuracy: 0.5333\n",
            "Epoch 13/100\n",
            "4/4 [==============================] - 2s 455ms/step - loss: 0.6638 - accuracy: 0.6870 - val_loss: 0.9907 - val_accuracy: 0.5333\n",
            "Epoch 14/100\n",
            "4/4 [==============================] - 2s 439ms/step - loss: 0.7640 - accuracy: 0.6435 - val_loss: 0.9583 - val_accuracy: 0.5333\n",
            "Epoch 15/100\n",
            "4/4 [==============================] - 2s 399ms/step - loss: 0.5896 - accuracy: 0.7913 - val_loss: 0.9298 - val_accuracy: 0.5333\n",
            "Epoch 16/100\n",
            "4/4 [==============================] - 2s 406ms/step - loss: 0.7271 - accuracy: 0.6522 - val_loss: 0.9068 - val_accuracy: 0.5333\n",
            "Epoch 17/100\n",
            "4/4 [==============================] - 1s 295ms/step - loss: 0.5726 - accuracy: 0.7826 - val_loss: 0.8910 - val_accuracy: 0.5667\n",
            "Epoch 18/100\n",
            "4/4 [==============================] - 2s 350ms/step - loss: 0.5888 - accuracy: 0.7478 - val_loss: 0.8696 - val_accuracy: 0.6000\n",
            "Epoch 19/100\n",
            "4/4 [==============================] - 3s 831ms/step - loss: 0.6122 - accuracy: 0.7391 - val_loss: 0.8506 - val_accuracy: 0.6000\n",
            "Epoch 20/100\n",
            "4/4 [==============================] - 2s 356ms/step - loss: 0.5850 - accuracy: 0.7913 - val_loss: 0.8433 - val_accuracy: 0.6000\n",
            "Epoch 21/100\n",
            "4/4 [==============================] - 1s 325ms/step - loss: 0.5226 - accuracy: 0.8000 - val_loss: 0.8327 - val_accuracy: 0.6667\n",
            "Epoch 22/100\n",
            "4/4 [==============================] - 1s 269ms/step - loss: 0.5462 - accuracy: 0.7913 - val_loss: 0.8226 - val_accuracy: 0.6667\n",
            "Epoch 23/100\n",
            "4/4 [==============================] - 1s 229ms/step - loss: 0.5607 - accuracy: 0.7652 - val_loss: 0.8119 - val_accuracy: 0.6667\n",
            "Epoch 24/100\n",
            "4/4 [==============================] - 1s 229ms/step - loss: 0.4964 - accuracy: 0.8261 - val_loss: 0.8065 - val_accuracy: 0.6667\n",
            "Epoch 25/100\n",
            "4/4 [==============================] - 1s 289ms/step - loss: 0.5014 - accuracy: 0.8261 - val_loss: 0.8030 - val_accuracy: 0.6667\n",
            "Epoch 26/100\n",
            "4/4 [==============================] - 2s 387ms/step - loss: 0.5349 - accuracy: 0.7652 - val_loss: 0.7995 - val_accuracy: 0.6667\n",
            "Epoch 27/100\n",
            "4/4 [==============================] - 2s 411ms/step - loss: 0.4806 - accuracy: 0.8087 - val_loss: 0.7923 - val_accuracy: 0.6667\n",
            "Epoch 28/100\n",
            "4/4 [==============================] - 2s 441ms/step - loss: 0.4890 - accuracy: 0.8174 - val_loss: 0.7843 - val_accuracy: 0.6667\n",
            "Epoch 29/100\n",
            "4/4 [==============================] - 2s 413ms/step - loss: 0.4752 - accuracy: 0.8348 - val_loss: 0.7785 - val_accuracy: 0.6667\n",
            "Epoch 30/100\n",
            "4/4 [==============================] - 2s 415ms/step - loss: 0.3808 - accuracy: 0.8870 - val_loss: 0.7661 - val_accuracy: 0.6667\n",
            "Epoch 31/100\n",
            "4/4 [==============================] - 2s 367ms/step - loss: 0.4431 - accuracy: 0.8435 - val_loss: 0.7534 - val_accuracy: 0.7333\n",
            "Epoch 32/100\n",
            "4/4 [==============================] - 4s 722ms/step - loss: 0.4627 - accuracy: 0.8435 - val_loss: 0.7374 - val_accuracy: 0.7333\n",
            "Epoch 33/100\n",
            "4/4 [==============================] - 1s 284ms/step - loss: 0.4551 - accuracy: 0.8609 - val_loss: 0.7298 - val_accuracy: 0.7333\n",
            "Epoch 34/100\n",
            "4/4 [==============================] - 1s 273ms/step - loss: 0.5505 - accuracy: 0.7565 - val_loss: 0.7227 - val_accuracy: 0.7333\n",
            "Epoch 35/100\n",
            "4/4 [==============================] - 1s 271ms/step - loss: 0.4513 - accuracy: 0.8174 - val_loss: 0.7216 - val_accuracy: 0.7333\n",
            "Epoch 36/100\n",
            "4/4 [==============================] - 1s 271ms/step - loss: 0.4504 - accuracy: 0.8348 - val_loss: 0.7258 - val_accuracy: 0.7333\n",
            "Epoch 37/100\n",
            "4/4 [==============================] - 1s 270ms/step - loss: 0.3661 - accuracy: 0.8957 - val_loss: 0.7290 - val_accuracy: 0.7000\n",
            "Epoch 38/100\n",
            "4/4 [==============================] - 1s 276ms/step - loss: 0.3691 - accuracy: 0.8783 - val_loss: 0.7266 - val_accuracy: 0.7333\n",
            "Epoch 39/100\n",
            "4/4 [==============================] - 1s 266ms/step - loss: 0.3587 - accuracy: 0.9130 - val_loss: 0.7186 - val_accuracy: 0.7333\n",
            "Epoch 40/100\n",
            "4/4 [==============================] - 1s 282ms/step - loss: 0.4388 - accuracy: 0.8348 - val_loss: 0.7094 - val_accuracy: 0.7333\n",
            "Epoch 41/100\n",
            "4/4 [==============================] - 2s 508ms/step - loss: 0.3021 - accuracy: 0.9130 - val_loss: 0.7045 - val_accuracy: 0.7333\n",
            "Epoch 42/100\n",
            "4/4 [==============================] - 1s 301ms/step - loss: 0.3749 - accuracy: 0.8696 - val_loss: 0.7063 - val_accuracy: 0.7333\n",
            "Epoch 43/100\n",
            "4/4 [==============================] - 1s 271ms/step - loss: 0.3649 - accuracy: 0.8783 - val_loss: 0.7101 - val_accuracy: 0.7333\n",
            "Epoch 44/100\n",
            "4/4 [==============================] - 1s 258ms/step - loss: 0.4082 - accuracy: 0.8870 - val_loss: 0.7080 - val_accuracy: 0.7333\n",
            "Epoch 45/100\n",
            "4/4 [==============================] - 1s 263ms/step - loss: 0.3404 - accuracy: 0.8870 - val_loss: 0.7005 - val_accuracy: 0.7333\n",
            "Epoch 46/100\n",
            "4/4 [==============================] - 1s 280ms/step - loss: 0.2852 - accuracy: 0.9304 - val_loss: 0.6913 - val_accuracy: 0.7333\n",
            "Epoch 47/100\n",
            "4/4 [==============================] - 1s 269ms/step - loss: 0.3047 - accuracy: 0.9304 - val_loss: 0.6888 - val_accuracy: 0.7333\n",
            "Epoch 48/100\n",
            "4/4 [==============================] - 1s 278ms/step - loss: 0.3581 - accuracy: 0.8696 - val_loss: 0.6818 - val_accuracy: 0.7333\n",
            "Epoch 49/100\n",
            "4/4 [==============================] - 1s 278ms/step - loss: 0.3104 - accuracy: 0.9130 - val_loss: 0.6754 - val_accuracy: 0.7333\n",
            "Epoch 50/100\n",
            "4/4 [==============================] - 1s 275ms/step - loss: 0.2852 - accuracy: 0.9043 - val_loss: 0.6755 - val_accuracy: 0.7333\n",
            "Epoch 51/100\n",
            "4/4 [==============================] - 2s 628ms/step - loss: 0.2598 - accuracy: 0.9304 - val_loss: 0.6796 - val_accuracy: 0.7333\n",
            "Epoch 52/100\n",
            "4/4 [==============================] - 3s 784ms/step - loss: 0.3136 - accuracy: 0.8870 - val_loss: 0.6855 - val_accuracy: 0.7333\n",
            "Epoch 53/100\n",
            "4/4 [==============================] - 1s 317ms/step - loss: 0.3087 - accuracy: 0.8957 - val_loss: 0.6811 - val_accuracy: 0.7333\n",
            "Epoch 54/100\n",
            "4/4 [==============================] - 1s 358ms/step - loss: 0.2626 - accuracy: 0.9391 - val_loss: 0.6749 - val_accuracy: 0.7333\n",
            "Epoch 55/100\n",
            "4/4 [==============================] - 1s 283ms/step - loss: 0.2952 - accuracy: 0.9043 - val_loss: 0.6717 - val_accuracy: 0.7333\n",
            "Epoch 56/100\n",
            "4/4 [==============================] - 1s 333ms/step - loss: 0.3144 - accuracy: 0.8870 - val_loss: 0.6732 - val_accuracy: 0.7333\n",
            "Epoch 57/100\n",
            "4/4 [==============================] - 1s 325ms/step - loss: 0.2951 - accuracy: 0.8870 - val_loss: 0.6691 - val_accuracy: 0.7333\n",
            "Epoch 58/100\n",
            "4/4 [==============================] - 2s 580ms/step - loss: 0.2936 - accuracy: 0.9043 - val_loss: 0.6676 - val_accuracy: 0.7333\n",
            "Epoch 59/100\n",
            "4/4 [==============================] - 2s 361ms/step - loss: 0.2132 - accuracy: 0.9478 - val_loss: 0.6677 - val_accuracy: 0.7333\n",
            "Epoch 60/100\n",
            "4/4 [==============================] - 1s 265ms/step - loss: 0.3236 - accuracy: 0.8870 - val_loss: 0.6577 - val_accuracy: 0.7333\n",
            "Epoch 61/100\n",
            "4/4 [==============================] - 1s 266ms/step - loss: 0.3227 - accuracy: 0.8696 - val_loss: 0.6589 - val_accuracy: 0.7333\n",
            "Epoch 62/100\n",
            "4/4 [==============================] - 1s 262ms/step - loss: 0.2604 - accuracy: 0.9217 - val_loss: 0.6446 - val_accuracy: 0.7333\n",
            "Epoch 63/100\n",
            "4/4 [==============================] - 1s 269ms/step - loss: 0.2244 - accuracy: 0.9391 - val_loss: 0.6321 - val_accuracy: 0.7667\n",
            "Epoch 64/100\n",
            "4/4 [==============================] - 1s 272ms/step - loss: 0.2270 - accuracy: 0.9478 - val_loss: 0.6165 - val_accuracy: 0.7667\n",
            "Epoch 65/100\n",
            "4/4 [==============================] - 1s 344ms/step - loss: 0.2366 - accuracy: 0.9043 - val_loss: 0.6086 - val_accuracy: 0.8000\n",
            "Epoch 66/100\n",
            "4/4 [==============================] - 1s 320ms/step - loss: 0.2570 - accuracy: 0.9391 - val_loss: 0.5915 - val_accuracy: 0.8000\n",
            "Epoch 67/100\n",
            "4/4 [==============================] - 1s 299ms/step - loss: 0.2159 - accuracy: 0.9478 - val_loss: 0.5901 - val_accuracy: 0.8000\n",
            "Epoch 68/100\n",
            "4/4 [==============================] - 3s 648ms/step - loss: 0.2475 - accuracy: 0.9130 - val_loss: 0.5933 - val_accuracy: 0.8000\n",
            "Epoch 69/100\n",
            "4/4 [==============================] - 1s 296ms/step - loss: 0.2288 - accuracy: 0.9217 - val_loss: 0.5998 - val_accuracy: 0.8000\n",
            "Epoch 70/100\n",
            "4/4 [==============================] - 1s 266ms/step - loss: 0.2129 - accuracy: 0.9565 - val_loss: 0.6063 - val_accuracy: 0.7667\n",
            "Epoch 71/100\n",
            "4/4 [==============================] - 1s 267ms/step - loss: 0.1700 - accuracy: 0.9652 - val_loss: 0.6062 - val_accuracy: 0.7667\n",
            "Epoch 72/100\n",
            "4/4 [==============================] - 1s 280ms/step - loss: 0.1781 - accuracy: 0.9652 - val_loss: 0.5954 - val_accuracy: 0.8000\n",
            "Epoch 73/100\n",
            "4/4 [==============================] - 1s 260ms/step - loss: 0.1801 - accuracy: 0.9739 - val_loss: 0.5921 - val_accuracy: 0.8000\n",
            "Epoch 74/100\n",
            "4/4 [==============================] - 2s 541ms/step - loss: 0.2351 - accuracy: 0.9130 - val_loss: 0.5877 - val_accuracy: 0.8000\n",
            "Epoch 75/100\n",
            "4/4 [==============================] - 1s 363ms/step - loss: 0.2064 - accuracy: 0.9391 - val_loss: 0.5790 - val_accuracy: 0.8000\n",
            "Epoch 76/100\n",
            "4/4 [==============================] - 2s 566ms/step - loss: 0.2478 - accuracy: 0.9130 - val_loss: 0.5590 - val_accuracy: 0.8000\n",
            "Epoch 77/100\n",
            "4/4 [==============================] - 1s 330ms/step - loss: 0.2508 - accuracy: 0.9304 - val_loss: 0.5463 - val_accuracy: 0.8000\n",
            "Epoch 78/100\n",
            "4/4 [==============================] - 1s 267ms/step - loss: 0.1718 - accuracy: 0.9478 - val_loss: 0.5378 - val_accuracy: 0.8000\n",
            "Epoch 79/100\n",
            "4/4 [==============================] - 1s 355ms/step - loss: 0.1618 - accuracy: 0.9826 - val_loss: 0.5301 - val_accuracy: 0.8000\n",
            "Epoch 80/100\n",
            "4/4 [==============================] - 1s 310ms/step - loss: 0.1709 - accuracy: 0.9478 - val_loss: 0.5173 - val_accuracy: 0.8333\n",
            "Epoch 81/100\n",
            "4/4 [==============================] - 1s 291ms/step - loss: 0.2341 - accuracy: 0.9478 - val_loss: 0.5171 - val_accuracy: 0.8000\n",
            "Epoch 82/100\n",
            "4/4 [==============================] - 2s 302ms/step - loss: 0.1365 - accuracy: 0.9652 - val_loss: 0.5130 - val_accuracy: 0.8000\n",
            "Epoch 83/100\n",
            "4/4 [==============================] - 3s 660ms/step - loss: 0.2072 - accuracy: 0.9391 - val_loss: 0.5144 - val_accuracy: 0.8000\n",
            "Epoch 84/100\n",
            "4/4 [==============================] - 1s 287ms/step - loss: 0.1964 - accuracy: 0.9478 - val_loss: 0.5177 - val_accuracy: 0.8000\n",
            "Epoch 85/100\n",
            "4/4 [==============================] - 1s 280ms/step - loss: 0.1349 - accuracy: 0.9826 - val_loss: 0.5275 - val_accuracy: 0.8000\n",
            "Epoch 86/100\n",
            "4/4 [==============================] - 1s 267ms/step - loss: 0.1903 - accuracy: 0.9478 - val_loss: 0.5503 - val_accuracy: 0.8000\n",
            "Epoch 87/100\n",
            "4/4 [==============================] - 1s 312ms/step - loss: 0.1379 - accuracy: 0.9913 - val_loss: 0.5620 - val_accuracy: 0.8000\n",
            "Epoch 88/100\n",
            "4/4 [==============================] - 1s 279ms/step - loss: 0.2173 - accuracy: 0.9391 - val_loss: 0.5566 - val_accuracy: 0.8000\n",
            "Epoch 89/100\n",
            "4/4 [==============================] - 1s 286ms/step - loss: 0.1436 - accuracy: 0.9826 - val_loss: 0.5637 - val_accuracy: 0.8000\n",
            "Epoch 90/100\n",
            "4/4 [==============================] - 1s 265ms/step - loss: 0.1195 - accuracy: 0.9739 - val_loss: 0.5793 - val_accuracy: 0.8000\n",
            "Epoch 91/100\n",
            "4/4 [==============================] - 2s 605ms/step - loss: 0.1788 - accuracy: 0.9652 - val_loss: 0.5886 - val_accuracy: 0.8000\n",
            "Epoch 92/100\n",
            "4/4 [==============================] - 2s 371ms/step - loss: 0.1591 - accuracy: 0.9652 - val_loss: 0.5838 - val_accuracy: 0.8000\n",
            "Epoch 93/100\n",
            "4/4 [==============================] - 1s 281ms/step - loss: 0.1587 - accuracy: 0.9391 - val_loss: 0.5731 - val_accuracy: 0.8000\n",
            "Epoch 94/100\n",
            "4/4 [==============================] - 1s 313ms/step - loss: 0.1439 - accuracy: 0.9652 - val_loss: 0.5517 - val_accuracy: 0.8000\n",
            "Epoch 95/100\n",
            "4/4 [==============================] - 1s 258ms/step - loss: 0.1269 - accuracy: 0.9826 - val_loss: 0.5337 - val_accuracy: 0.8000\n",
            "Epoch 96/100\n",
            "4/4 [==============================] - 1s 259ms/step - loss: 0.2160 - accuracy: 0.9217 - val_loss: 0.5155 - val_accuracy: 0.8000\n",
            "Epoch 97/100\n",
            "4/4 [==============================] - 1s 293ms/step - loss: 0.1696 - accuracy: 0.9565 - val_loss: 0.4920 - val_accuracy: 0.8333\n",
            "Epoch 98/100\n",
            "4/4 [==============================] - 2s 410ms/step - loss: 0.1338 - accuracy: 0.9826 - val_loss: 0.4726 - val_accuracy: 0.8333\n",
            "Epoch 99/100\n",
            "4/4 [==============================] - 2s 485ms/step - loss: 0.1159 - accuracy: 0.9826 - val_loss: 0.4609 - val_accuracy: 0.8333\n",
            "Epoch 100/100\n",
            "4/4 [==============================] - 1s 284ms/step - loss: 0.1131 - accuracy: 0.9739 - val_loss: 0.4651 - val_accuracy: 0.8333\n"
          ]
        }
      ],
      "source": [
        "history=model.fit(\n",
        "  train_ds,\n",
        "  validation_data=valid_ds,\n",
        "  epochs=100,\n",
        "  # callbacks=lr_callback,\n",
        "   #callbacks=[\n",
        "        # model_checkpoint_callback,\n",
        "        #early_stopping_callback,\n",
        "        # tensorboard_callback,\n",
        "        # lr_callback, ]\n",
        ")"
      ]
    },
    {
      "cell_type": "code",
      "execution_count": 12,
      "metadata": {},
      "outputs": [
        {
          "data": {
            "image/png": "[encoded data removed]",
            "text/plain": [
              "<Figure size 640x480 with 1 Axes>"
            ]
          },
          "metadata": {},
          "output_type": "display_data"
        }
      ],
      "source": [
        "plt.plot(history.history['accuracy'])\n",
        "plt.plot(history.history['val_accuracy'])\n",
        "plt.title('model accuracy')\n",
        "plt.ylabel('accuracy')\n",
        "plt.xlabel('epoch')\n",
        "plt.legend(['train', 'val'], loc='upper left')\n",
        "plt.show()"
      ]
    },
    {
      "cell_type": "code",
      "execution_count": 13,
      "metadata": {},
      "outputs": [
        {
          "data": {
            "image/png": "[encoded data removed]",
            "text/plain": [
              "<Figure size 640x480 with 1 Axes>"
            ]
          },
          "metadata": {},
          "output_type": "display_data"
        }
      ],
      "source": [
        "plt.plot(history.history['loss'])\n",
        "plt.plot(history.history['val_loss'])\n",
        "plt.title('model loss')\n",
        "plt.ylabel('loss')\n",
        "plt.xlabel('epoch')\n",
        "plt.legend(['train', 'val'], loc='upper left')\n",
        "plt.show()"
      ]
    },
    {
      "attachments": {},
      "cell_type": "markdown",
      "metadata": {
        "id": "U0tsAdGikFa_"
      },
      "source": [
        "### Save the TensorFlow model"
      ]
    },
    {
      "cell_type": "code",
      "execution_count": 14,
      "metadata": {
        "id": "rOUI3vtLtYKh"
      },
      "outputs": [
        {
          "name": "stderr",
          "output_type": "stream",
          "text": [
            "WARNING:absl:Found untraced functions such as _jit_compiled_convolution_op, _jit_compiled_convolution_op, _jit_compiled_convolution_op, _jit_compiled_convolution_op, _jit_compiled_convolution_op while saving (showing 5 of 54). These functions will not be directly callable after loading.\n"
          ]
        },
        {
          "name": "stdout",
          "output_type": "stream",
          "text": [
            "INFO:tensorflow:Assets written to: model64outint8/assets\n"
          ]
        },
        {
          "name": "stderr",
          "output_type": "stream",
          "text": [
            "INFO:tensorflow:Assets written to: model64outint8/assets\n"
          ]
        }
      ],
      "source": [
        "model.save(TF_MODEL)"
      ]
    },
    {
      "cell_type": "code",
      "execution_count": 15,
      "metadata": {},
      "outputs": [],
      "source": [
        "model=tf.keras.models.load_model(TF_MODEL)"
      ]
    },
    {
      "cell_type": "code",
      "execution_count": 16,
      "metadata": {},
      "outputs": [
        {
          "name": "stdout",
          "output_type": "stream",
          "text": [
            "1/1 [==============================] - 5s 5s/step\n",
            "Accuracy: \n",
            "0.8333333333333334\n"
          ]
        },
        {
          "data": {
            "text/plain": [
              "<tf.Tensor: shape=(3, 3), dtype=int32, numpy=\n",
              "array([[ 7,  0,  3],\n",
              "       [ 0,  8,  2],\n",
              "       [ 0,  0, 10]], dtype=int32)>"
            ]
          },
          "execution_count": 16,
          "metadata": {},
          "output_type": "execute_result"
        }
      ],
      "source": [
        "import os\n",
        "import cv2\n",
        "# real_labels=np.concatenate([y for x, y in val_ds], axis=0)\n",
        "# Folder path containing the images\n",
        "folder_path = \"edited_dataset_copy\"  # Replace with the path to your folder\n",
        "real_labels=[]\n",
        "predicted_labels=[]\n",
        "\n",
        "\n",
        "# Iterate over the images in the folder\n",
        "for image, real_label in valid_ds:\n",
        "    # if filename.endswith(\".png\"):  # Adjust the file extension if needed\n",
        "        # Load and preprocess the image\n",
        "        # image_path = os.path.join(folder_path, filename)\n",
        "        # image = cv2.imread(image_path)\n",
        "        # image = cv2.cvtColor(image, cv2.COLOR_BGR2RGB)  # Convert BGR to RGB\n",
        "        # image = cv2.resize(image, (MODEL_INPUT_WIDTH, MODEL_INPUT_HEIGHT))\n",
        "        # image = image / 255.0  # Normalize the image\n",
        "        # image = np.expand_dims(image, axis=0)  # Add a batch dimension\n",
        "        real_labels.append(real_label)\n",
        "        # Make predictions\n",
        "        predicted_label = np.argmax(model.predict(image), axis=1)\n",
        "        # print(predicted_label)\n",
        "        # predicted_label = class_names[np.argmax(predictions)]\n",
        "        predicted_labels=(predicted_label)\n",
        "        # Display the image and predicted label\n",
        "        # plt.imshow(image[0])\n",
        "        # plt.title(f\"Predicted label: {predicted_label}\")\n",
        "        # plt.axis(\"off\")\n",
        "        # plt.show()\n",
        "sum=0\n",
        "for i in range(len(np.array(real_labels)[0])):\n",
        "        if np.array(real_labels)[0][i]==predicted_labels[i]:\n",
        "                sum+=1\n",
        "\n",
        "print(\"Accuracy: \")\n",
        "print(sum/len(predicted_labels))\n",
        "# print(np.array(real_labels))\n",
        "# print(predicted_labels)\n",
        "tf.math.confusion_matrix(np.array(real_labels)[0], predicted_labels, 3)"
      ]
    },
    {
      "attachments": {},
      "cell_type": "markdown",
      "metadata": {
        "id": "KntdZZ5ruM7Z"
      },
      "source": [
        "## Preparing and testing the quantized TFLite model"
      ]
    },
    {
      "attachments": {},
      "cell_type": "markdown",
      "metadata": {
        "id": "srHkdaf_kk97"
      },
      "source": [
        "### Unzip the test dataset (test_samples.zip)"
      ]
    },
    {
      "cell_type": "code",
      "execution_count": 158,
      "metadata": {
        "id": "ZxnVbqxkkspY"
      },
      "outputs": [],
      "source": [
        "# with zipfile.ZipFile(\"test_samples.zip\", 'r') as zip_ref:\n",
        "#     zip_ref.extractall(\".\")\n",
        "# test_dir = \"dataset\""
      ]
    },
    {
      "attachments": {},
      "cell_type": "markdown",
      "metadata": {
        "id": "jzTiU6qQk_Bv"
      },
      "source": [
        "### Rescale the pixel values from [0, 255] to [-1, 1]"
      ]
    },
    {
      "cell_type": "code",
      "execution_count": 17,
      "metadata": {
        "id": "vYHpua21lGXp"
      },
      "outputs": [
        {
          "name": "stdout",
          "output_type": "stream",
          "text": [
            "Found 115 files belonging to 3 classes.\n"
          ]
        }
      ],
      "source": [
        "test_dir=\"edited_dataset_copy\"\n",
        "test_ds = tf.keras.utils.image_dataset_from_directory(test_dir,\n",
        "                                                      interpolation=\"bilinear\",\n",
        "                                                      image_size=(MODEL_INPUT_WIDTH, MODEL_INPUT_HEIGHT))\n",
        "test_ds  = test_ds.map(lambda x, y: (rescale(x), y))"
      ]
    },
    {
      "attachments": {},
      "cell_type": "markdown",
      "metadata": {
        "id": "riqPFiWllkdg"
      },
      "source": [
        "### Quantize the TensorFlow model with the TFLite converter"
      ]
    },
    {
      "cell_type": "code",
      "execution_count": 20,
      "metadata": {
        "id": "ALWbwZKBuNl8"
      },
      "outputs": [
        {
          "name": "stderr",
          "output_type": "stream",
          "text": [
            "2023-07-14 12:07:26.847885: W tensorflow/compiler/mlir/lite/python/tf_tfl_flatbuffer_helpers.cc:364] Ignored output_format.\n",
            "2023-07-14 12:07:26.849054: W tensorflow/compiler/mlir/lite/python/tf_tfl_flatbuffer_helpers.cc:367] Ignored drop_control_dependency.\n",
            "2023-07-14 12:07:26.867358: I tensorflow/cc/saved_model/reader.cc:45] Reading SavedModel from: model64outint8\n",
            "2023-07-14 12:07:26.932539: I tensorflow/cc/saved_model/reader.cc:89] Reading meta graph with tags { serve }\n",
            "2023-07-14 12:07:26.932919: I tensorflow/cc/saved_model/reader.cc:130] Reading SavedModel debug info (if present) from: model64outint8\n",
            "2023-07-14 12:07:27.200028: I tensorflow/cc/saved_model/loader.cc:231] Restoring SavedModel bundle.\n",
            "2023-07-14 12:07:29.118272: I tensorflow/cc/saved_model/loader.cc:215] Running initialization op on SavedModel bundle at path: model64outint8\n",
            "2023-07-14 12:07:29.598604: I tensorflow/cc/saved_model/loader.cc:314] SavedModel load for tags { serve }; Status: success: OK. Took 2731270 microseconds.\n",
            "2023-07-14 12:07:31.880882: I tensorflow/core/common_runtime/executor.cc:1197] [/device:CPU:0] (DEBUG INFO) Executor start aborting (this does not indicate an error and you can ignore this message): INVALID_ARGUMENT: You must feed a value for placeholder tensor 'Placeholder/_4' with dtype int32 and shape [115]\n",
            "\t [[{{node Placeholder/_4}}]]\n",
            "2023-07-14 12:07:31.881491: I tensorflow/core/common_runtime/executor.cc:1197] [/device:CPU:0] (DEBUG INFO) Executor start aborting (this does not indicate an error and you can ignore this message): INVALID_ARGUMENT: You must feed a value for placeholder tensor 'Placeholder/_0' with dtype string and shape [115]\n",
            "\t [[{{node Placeholder/_0}}]]\n",
            "fully_quantize: 0, inference_type: 6, input_inference_type: INT8, output_inference_type: INT8\n"
          ]
        }
      ],
      "source": [
        "repr_ds = test_ds.unbatch()\n",
        "\n",
        "def representative_data_gen():\n",
        "  for i_value, o_value in repr_ds.batch(1).take(100):\n",
        "    yield [i_value]\n",
        "\n",
        "converter = tf.lite.TFLiteConverter.from_saved_model(TF_MODEL)\n",
        "converter.representative_dataset = tf.lite.RepresentativeDataset(representative_data_gen)\n",
        "converter.optimizations = [tf.lite.Optimize.DEFAULT]\n",
        "converter.inference_input_type = tf.int8\n",
        "converter.inference_output_type = tf.int8\n",
        "converter.target_spec.supported_ops = [tf.lite.OpsSet.TFLITE_BUILTINS_INT8]\n",
        "# converter.inference_input_type = tf.int8\n",
        "\n",
        "tfl_model = converter.convert()\n"
      ]
    },
    {
      "attachments": {},
      "cell_type": "markdown",
      "metadata": {
        "id": "nQg4FbwzluB8"
      },
      "source": [
        "### Get the TFLite model size in bytes"
      ]
    },
    {
      "cell_type": "code",
      "execution_count": 21,
      "metadata": {
        "id": "IFIpV1uUlxiZ"
      },
      "outputs": [
        {
          "name": "stdout",
          "output_type": "stream",
          "text": [
            "443048 bytes\n"
          ]
        }
      ],
      "source": [
        "size_tfl_model = len(tfl_model)\n",
        "print(len(tfl_model), \"bytes\")"
      ]
    },
    {
      "attachments": {},
      "cell_type": "markdown",
      "metadata": {
        "id": "1Br6hq8Cl4nU"
      },
      "source": [
        "### Initialize the TFLite interpreter"
      ]
    },
    {
      "cell_type": "code",
      "execution_count": 22,
      "metadata": {
        "id": "ACsaQjxzP2Wd"
      },
      "outputs": [
        {
          "name": "stderr",
          "output_type": "stream",
          "text": [
            "INFO: Created TensorFlow Lite XNNPACK delegate for CPU.\n"
          ]
        }
      ],
      "source": [
        "# Initialize the TFLite interpreter\n",
        "interpreter = tf.lite.Interpreter(model_content=tfl_model)\n",
        "\n",
        "# Allocate the tensors\n",
        "interpreter.allocate_tensors()"
      ]
    },
    {
      "attachments": {},
      "cell_type": "markdown",
      "metadata": {
        "id": "OxxhFk-7l9J2"
      },
      "source": [
        "### Get input quantization parameters"
      ]
    },
    {
      "cell_type": "code",
      "execution_count": 24,
      "metadata": {
        "id": "nrH3uM8Gl_Hg"
      },
      "outputs": [
        {
          "name": "stdout",
          "output_type": "stream",
          "text": [
            "{'scales': array([0.00781923], dtype=float32), 'zero_points': array([-1], dtype=int32), 'quantized_dimension': 0}\n",
            "0.007819228\n",
            "-1\n"
          ]
        }
      ],
      "source": [
        "# Get input/output layer information\n",
        "i_details = interpreter.get_input_details()[0]\n",
        "o_details = interpreter.get_output_details()[0]\n",
        "\n",
        "# Get input quantization parameters.\n",
        "i_quant = i_details[\"quantization_parameters\"]\n",
        "i_scale      = i_quant['scales'][0]\n",
        "i_zero_point = i_quant['zero_points'][0]\n",
        "print(i_quant)\n",
        "print(i_scale)\n",
        "print(i_zero_point)"
      ]
    },
    {
      "attachments": {},
      "cell_type": "markdown",
      "metadata": {
        "id": "WQcFhKfumT1B"
      },
      "source": [
        "### Evaluate the accuracy of the quantized TFLite model"
      ]
    },
    {
      "cell_type": "code",
      "execution_count": 25,
      "metadata": {
        "id": "1vlIBfMHmWT-"
      },
      "outputs": [
        {
          "name": "stderr",
          "output_type": "stream",
          "text": [
            "2023-07-14 12:07:50.354878: I tensorflow/core/common_runtime/executor.cc:1197] [/device:CPU:0] (DEBUG INFO) Executor start aborting (this does not indicate an error and you can ignore this message): INVALID_ARGUMENT: You must feed a value for placeholder tensor 'Placeholder/_4' with dtype int32 and shape [30]\n",
            "\t [[{{node Placeholder/_4}}]]\n",
            "2023-07-14 12:07:50.355563: I tensorflow/core/common_runtime/executor.cc:1197] [/device:CPU:0] (DEBUG INFO) Executor start aborting (this does not indicate an error and you can ignore this message): INVALID_ARGUMENT: You must feed a value for placeholder tensor 'Placeholder/_4' with dtype int32 and shape [30]\n",
            "\t [[{{node Placeholder/_4}}]]\n",
            "2023-07-14 12:07:50.459553: I tensorflow/core/common_runtime/executor.cc:1197] [/device:CPU:0] (DEBUG INFO) Executor start aborting (this does not indicate an error and you can ignore this message): INVALID_ARGUMENT: You must feed a value for placeholder tensor 'Placeholder/_0' with dtype string and shape [30]\n",
            "\t [[{{node Placeholder/_0}}]]\n",
            "2023-07-14 12:07:50.460513: I tensorflow/core/common_runtime/executor.cc:1197] [/device:CPU:0] (DEBUG INFO) Executor start aborting (this does not indicate an error and you can ignore this message): INVALID_ARGUMENT: You must feed a value for placeholder tensor 'Placeholder/_4' with dtype int32 and shape [30]\n",
            "\t [[{{node Placeholder/_4}}]]\n"
          ]
        },
        {
          "name": "stdout",
          "output_type": "stream",
          "text": [
            "tf.Tensor(\n",
            "[[ 6  0  4]\n",
            " [ 0  8  2]\n",
            " [ 0  0 10]], shape=(3, 3), dtype=int32)\n",
            "Accuracy: 0.8\n"
          ]
        }
      ],
      "source": [
        "test_ds0 = valid_ds.unbatch()\n",
        "\n",
        "num_correct_samples = 0\n",
        "num_total_samples   = len(list(test_ds0.batch(1)))\n",
        "\n",
        "real_labels=[]\n",
        "predicted_labels=[]\n",
        "for i_value, o_value in test_ds0.batch(1):\n",
        "  i_value = (i_value / i_scale) + i_zero_point\n",
        "  i_value = tf.cast(i_value, dtype=tf.int8)\n",
        "  interpreter.set_tensor(i_details[\"index\"], i_value)\n",
        "  interpreter.invoke()\n",
        "  o_pred = interpreter.get_tensor(o_details[\"index\"])[0]\n",
        "\n",
        "  if np.argmax(o_pred) == o_value:\n",
        "    num_correct_samples += 1\n",
        "\n",
        "  real_labels.append(o_value)\n",
        "  predicted_labels.append(np.argmax(o_pred))\n",
        "\n",
        "print(tf.math.confusion_matrix(real_labels, predicted_labels, 3))\n",
        "print(\"Accuracy:\", num_correct_samples/num_total_samples)"
      ]
    },
    {
      "attachments": {},
      "cell_type": "markdown",
      "metadata": {
        "id": "tM-ZaNUHmkBm"
      },
      "source": [
        "### Convert the TFLite model to C-byte array with xxd"
      ]
    },
    {
      "cell_type": "code",
      "execution_count": 26,
      "metadata": {
        "id": "3kAnQgmI0QK_"
      },
      "outputs": [
        {
          "name": "stdout",
          "output_type": "stream",
          "text": [
            "zsh:1: command not found: apt-get\n"
          ]
        }
      ],
      "source": [
        "open(\"model.tflite\", \"wb\").write(tfl_model)\n",
        "!apt-get update && apt-get -qq install xxd\n",
        "!xxd -c 60 -i model.tflite > model64outint8.cpp"
      ]
    }
  ],
  "metadata": {
    "accelerator": "GPU",
    "colab": {
      "collapsed_sections": [],
      "name": "chapter05.ipynb",
      "provenance": []
    },
    "kernelspec": {
      "display_name": "tiny",
      "language": "python",
      "name": "python3"
    },
    "language_info": {
      "codemirror_mode": {
        "name": "ipython",
        "version": 3
      },
      "file_extension": ".py",
      "mimetype": "text/x-python",
      "name": "python",
      "nbconvert_exporter": "python",
      "pygments_lexer": "ipython3",
      "version": "3.11.3"
    }
  },
  "nbformat": 4,
  "nbformat_minor": 0
}
